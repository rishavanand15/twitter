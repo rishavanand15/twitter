{
 "cells": [
  {
   "cell_type": "markdown",
   "metadata": {},
   "source": [
    "# Twitter scraping of likes,comments&status for finding statement"
   ]
  },
  {
   "cell_type": "code",
   "execution_count": 4,
   "metadata": {},
   "outputs": [],
   "source": [
    "import requests\n",
    "from lxml import html"
   ]
  },
  {
   "cell_type": "code",
   "execution_count": null,
   "metadata": {},
   "outputs": [],
   "source": [
    "class twitter_scrapper:\n",
    "    def setter(self,b=0,c=0):\n",
    "        self.keyword=b\n",
    "        self.id1=c\n",
    "    def __init__ (self,b,c):\n",
    "        a='https://twitter.com'\n",
    "        self.d=a+'/'+b+'/status/'+c#url from where to scrape\n",
    "        self.scrap(self.d)\n",
    "    def scrap(self,d):\n",
    "        request=requests.get(d)#to get access of url\n",
    "        status=request.status_code\n",
    "        j={}\n",
    "        if status==200:\n",
    "            content1=request.content\n",
    "            content2=html.fromstring(content1)\n",
    "            tweet=content2.xpath(\"//div[@class='js-tweet-text-container']/p[@class='TweetTextSize TweetTextSize--jumbo js-tweet-text tweet-text']/text()\")\n",
    "            likes=content2.xpath(\"//div[@class='js-tweet-stats-container tweet-stats-container']/ul/li[@class='js-stat-count js-stat-favorites stat-count']/a/strong/text()\")\n",
    "            retweet=content2.xpath(\"//div[@class='js-tweet-stats-container tweet-stats-container']/ul/li[@class='js-stat-count js-stat-retweets stat-count']/a/strong/text()\")\n",
    "            comment=content2.xpath(\"//span/@data-tweet-stat-count\")[0]\n",
    "            j.update({'tweet':tweet})\n",
    "            j.update({'tweet_likes':likes})\n",
    "            j.update({'tweet_retweets':retweet})\n",
    "            j.update({'tweet_comment':comment})\n",
    "        else:\n",
    "            print('status is not good check the server')\n",
    "        print(j)\n",
    "keyword=str(input('enter keyword'))#user id like for rahul gandhi @RahulGandhi\n",
    "id1=str(input('enter id'))#status idlike 1028854120910909441\n",
    "keyword=keyword[1:len(keyword)]\n",
    "full=twitter_scrapper(keyword,id1)"
   ]
  }
 ],
 "metadata": {
  "kernelspec": {
   "display_name": "Python 3",
   "language": "python",
   "name": "python3"
  },
  "language_info": {
   "codemirror_mode": {
    "name": "ipython",
    "version": 3
   },
   "file_extension": ".py",
   "mimetype": "text/x-python",
   "name": "python",
   "nbconvert_exporter": "python",
   "pygments_lexer": "ipython3",
   "version": "3.5.2"
  }
 },
 "nbformat": 4,
 "nbformat_minor": 2
}
